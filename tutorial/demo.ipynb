{
 "cells": [
  {
   "cell_type": "markdown",
   "metadata": {},
   "source": [
    "# Starting the server"
   ]
  },
  {
   "cell_type": "code",
   "execution_count": 1,
   "metadata": {},
   "outputs": [],
   "source": [
    "%%script bash --bg\n",
    "python mellow_db/server_run.py"
   ]
  },
  {
   "cell_type": "markdown",
   "metadata": {},
   "source": [
    "# Using MellowClient"
   ]
  },
  {
   "cell_type": "code",
   "execution_count": 2,
   "metadata": {},
   "outputs": [],
   "source": [
    "import numpy as np\n",
    "\n",
    "def normalize_to_unit_length(lst):\n",
    "    \"\"\"Normalizes a list to unit length (Euclidean norm of 1) and returns the list.\"\"\"\n",
    "    arr = np.array(lst, dtype=np.float64)\n",
    "    norm = np.linalg.norm(arr)\n",
    "    return (arr / norm).tolist() if norm != 0 else lst"
   ]
  },
  {
   "cell_type": "code",
   "execution_count": 3,
   "metadata": {},
   "outputs": [],
   "source": [
    "from mellow_db.client import MellowClient\n",
    "import json\n",
    "import os"
   ]
  },
  {
   "cell_type": "code",
   "execution_count": 4,
   "metadata": {},
   "outputs": [],
   "source": [
    "# Initialize the client\n",
    "service_account_info = json.loads(os.getenv(\"GCP_SERVICE_ACCOUNT\"))\n",
    "client = MellowClient(\"localhost\", os.getenv(\"MELLOW_PORT\"), service_account_info)"
   ]
  },
  {
   "cell_type": "code",
   "execution_count": 5,
   "metadata": {},
   "outputs": [
    {
     "data": {
      "text/plain": [
       "\"Created collection 'demo_collection' successfully\""
      ]
     },
     "execution_count": 5,
     "metadata": {},
     "output_type": "execute_result"
    }
   ],
   "source": [
    "# Create a demo collection\n",
    "client.create_collection(\n",
    "    \"demo_collection\",\n",
    "    collection_schema=[\n",
    "        {\"field_name\": \"name\", \"field_type\": \"string\", \"is_nullable\": False},\n",
    "        {\"field_name\": \"age\", \"field_type\": \"integer\", \"is_nullable\": False},\n",
    "        {\"field_name\": \"details\", \"field_type\": \"string\", \"is_nullable\": True},\n",
    "    ]\n",
    ")"
   ]
  },
  {
   "cell_type": "code",
   "execution_count": 6,
   "metadata": {},
   "outputs": [
    {
     "data": {
      "text/plain": [
       "\"Assigned collection 'demo_collection' successfully\""
      ]
     },
     "execution_count": 6,
     "metadata": {},
     "output_type": "execute_result"
    }
   ],
   "source": [
    "# Get assigned to the demo collection. After this client will use the same collection for operations\n",
    "client.use_collection(\"demo_collection\")"
   ]
  },
  {
   "cell_type": "code",
   "execution_count": 7,
   "metadata": {},
   "outputs": [
    {
     "data": {
      "text/plain": [
       "1"
      ]
     },
     "execution_count": 7,
     "metadata": {},
     "output_type": "execute_result"
    }
   ],
   "source": [
    "# Add the first data\n",
    "client.add(\n",
    "    key_to_metadata={\"123\": {\"name\": \"Harry\", \"age\": 25, \"details\": \"Harry is a wizard\"}},\n",
    "    key_to_data={\"123\": normalize_to_unit_length([0.1, 0.2, 0.3])},\n",
    "    upsert=False)\n",
    "client.get_collection_item_count()"
   ]
  },
  {
   "cell_type": "code",
   "execution_count": 8,
   "metadata": {},
   "outputs": [
    {
     "data": {
      "text/plain": [
       "{'name': 'demo_collection',\n",
       " 'item_count': 1,\n",
       " 'size_in_bytes': 12697,\n",
       " 'faiss_index_type': 'Flat',\n",
       " 'faiss_index_metric': 'METRIC_INNER_PRODUCT',\n",
       " 'embedding_dim': 3,\n",
       " 'primary_keys': ['key'],\n",
       " 'meta_columns': [{'name': 'key',\n",
       "   'type': 'VARCHAR',\n",
       "   'is_nullable': False,\n",
       "   'is_index': False,\n",
       "   'default': None},\n",
       "  {'name': 'name',\n",
       "   'type': 'VARCHAR',\n",
       "   'is_nullable': False,\n",
       "   'is_index': False,\n",
       "   'default': None},\n",
       "  {'name': 'age',\n",
       "   'type': 'INTEGER',\n",
       "   'is_nullable': False,\n",
       "   'is_index': False,\n",
       "   'default': None},\n",
       "  {'name': 'details',\n",
       "   'type': 'VARCHAR',\n",
       "   'is_nullable': True,\n",
       "   'is_index': False,\n",
       "   'default': None}]}"
      ]
     },
     "execution_count": 8,
     "metadata": {},
     "output_type": "execute_result"
    }
   ],
   "source": [
    "client.get_collection_info()"
   ]
  },
  {
   "cell_type": "code",
   "execution_count": 9,
   "metadata": {},
   "outputs": [
    {
     "name": "stdout",
     "output_type": "stream",
     "text": [
      "Row 1:\n",
      "[('Harry', 'Harry is a wizard')]\n",
      "Row 2:\n",
      "[(25, 'Harry', 'Harry is a wizard', [0.2672612419124244, 0.5345224838248488, 0.8017837257372731])]\n",
      "Row 3:\n",
      "[]\n"
     ]
    }
   ],
   "source": [
    "row1 = client.get(\n",
    "    where={\"name\": {\"$eq\": \"Harry\"}, \"age\": {\"$gte\": 20}},\n",
    "    projection=[\"name\", \"details\"])\n",
    "print(f\"Row 1:\\n{row1}\")\n",
    "\n",
    "# get more fields\n",
    "row2 = client.get(\n",
    "    where={\"name\": {\"$eq\": \"Harry\"}, \"age\": {\"$gte\": 20}},\n",
    "    projection=[\"age\", \"name\", \"details\", \"embedding\"])\n",
    "print(f\"Row 2:\\n{row2}\")\n",
    "\n",
    "# no rows statisfied the condition\n",
    "row3 = client.get(\n",
    "    where={\"name\": {\"$eq\": \"Harry\"}, \"age\": {\"$lte\": 20}},\n",
    "    projection=[\"age\", \"name\", \"details\", \"embedding\"])\n",
    "print(f\"Row 3:\\n{row3}\")"
   ]
  },
  {
   "cell_type": "code",
   "execution_count": 10,
   "metadata": {},
   "outputs": [
    {
     "name": "stdout",
     "output_type": "stream",
     "text": [
      "Updated Row:\n",
      "[('Harry', 37, 'Harry is a wizard', [0.2672612419124244, 0.5345224838248488, 0.8017837257372731])]\n"
     ]
    }
   ],
   "source": [
    "# update the row\n",
    "client.add(key_to_metadata={\"123\": { \"age\": 37}}, upsert=True)\n",
    "updated_row = client.get(where={\"name\": {\"$eq\": \"Harry\"}}, projection=[\"name\", \"age\", \"details\", \"embedding\"])\n",
    "# check how Harry is 37 now\n",
    "print(f\"Updated Row:\\n{updated_row}\")"
   ]
  },
  {
   "cell_type": "code",
   "execution_count": 11,
   "metadata": {},
   "outputs": [
    {
     "data": {
      "text/plain": [
       "[('123',\n",
       "  'Harry',\n",
       "  37,\n",
       "  'Harry is a wizard',\n",
       "  [0.2672612419124244, 0.5345224838248488, 0.8017837257372731]),\n",
       " ('124',\n",
       "  'Ron',\n",
       "  24,\n",
       "  \"Ron is Harry's best friend\",\n",
       "  [0.7427813527082073, 0.37139067635410367, 0.5570860145311555]),\n",
       " ('125',\n",
       "  'Hermione',\n",
       "  28,\n",
       "  'Hermione is smart',\n",
       "  [0.8890008890013336, 0.25400025400038106, 0.38100038100057154]),\n",
       " ('126',\n",
       "  'Dumbledore',\n",
       "  102,\n",
       "  'Dumbledore is the best',\n",
       "  [0.9116846116771036, 0.2279211529192759, 0.3418817293789138])]"
      ]
     },
     "execution_count": 11,
     "metadata": {},
     "output_type": "execute_result"
    }
   ],
   "source": [
    "# add more rows\n",
    "client.add(key_to_metadata={\n",
    "    \"124\": {\"name\": \"Ron\", \"age\": 24, \"details\": \"Ron is Harry's best friend\"},\n",
    "    \"125\": {\"name\": \"Hermione\", \"age\": 28, \"details\": \"Hermione is smart\"},\n",
    "    \"126\": {\"name\": \"Dumbledore\", \"age\": 102, \"details\": \"Dumbledore is the best\"},\n",
    "    },\n",
    "    key_to_data={\n",
    "        \"124\": normalize_to_unit_length([0.4, 0.2, 0.3]),\n",
    "        \"125\": normalize_to_unit_length([0.7, 0.2, 0.3]),\n",
    "        \"126\": normalize_to_unit_length([0.8, 0.2, 0.3]),\n",
    "    },\n",
    "    upsert=False\n",
    ")\n",
    "# return all rows\n",
    "client.get(where={}, projection=[\"key\", \"name\", \"age\", \"details\", \"embedding\"])"
   ]
  },
  {
   "cell_type": "code",
   "execution_count": 12,
   "metadata": {},
   "outputs": [
    {
     "data": {
      "text/plain": [
       "[(('Harry', 1.0),\n",
       "  ('Ron', 0.8436958193778992),\n",
       "  ('Hermione', 0.6788442134857178),\n",
       "  ('Dumbledore', 0.6396021842956543))]"
      ]
     },
     "execution_count": 12,
     "metadata": {},
     "output_type": "execute_result"
    }
   ],
   "source": [
    "client.search(\n",
    "    query_keys=['123'],\n",
    "    projection=[\"name\", \"similarity\"],\n",
    "    n_results=10,\n",
    "    not_exists_ok=True)"
   ]
  },
  {
   "cell_type": "code",
   "execution_count": 13,
   "metadata": {},
   "outputs": [
    {
     "data": {
      "text/plain": [
       "[(('Harry', 1.0),\n",
       "  ('Ron', 0.8436958193778992),\n",
       "  ('Dumbledore', 0.6396021842956543))]"
      ]
     },
     "execution_count": 13,
     "metadata": {},
     "output_type": "execute_result"
    }
   ],
   "source": [
    "client.search(\n",
    "    query_keys=['123'],\n",
    "    projection=[\"name\", \"similarity\"],\n",
    "    where={\"name\": {\"$ne\": \"Hermione\"}},\n",
    "    n_results=10,\n",
    "    not_exists_ok=True)"
   ]
  },
  {
   "cell_type": "code",
   "execution_count": 14,
   "metadata": {},
   "outputs": [
    {
     "name": "stdout",
     "output_type": "stream",
     "text": [
      "There are 1 active clients connected to collection 'demo_collection'\n"
     ]
    }
   ],
   "source": [
    "# can not delete a collection with assigned clients\n",
    "try:\n",
    "    delete_response = client.delete_collection(\"demo_collection\")\n",
    "    print(delete_response)\n",
    "except Exception as e:\n",
    "    print(e)"
   ]
  },
  {
   "cell_type": "code",
   "execution_count": 15,
   "metadata": {},
   "outputs": [
    {
     "data": {
      "text/plain": [
       "'Disconnected successfully'"
      ]
     },
     "execution_count": 15,
     "metadata": {},
     "output_type": "execute_result"
    }
   ],
   "source": [
    "# disconnect the client when done\n",
    "client.disconnect()"
   ]
  },
  {
   "cell_type": "code",
   "execution_count": 16,
   "metadata": {},
   "outputs": [
    {
     "data": {
      "text/plain": [
       "\"Deleted collection 'demo_collection' successfully\""
      ]
     },
     "execution_count": 16,
     "metadata": {},
     "output_type": "execute_result"
    }
   ],
   "source": [
    "# since disconnected, we can delete the collection\n",
    "MellowClient(\n",
    "    \"localhost\",\n",
    "    os.getenv(\"MELLOW_PORT\"),\n",
    "    service_account_info).delete_collection(\"demo_collection\")"
   ]
  }
 ],
 "metadata": {
  "kernelspec": {
   "display_name": "mellowdb",
   "language": "python",
   "name": "python3"
  },
  "language_info": {
   "codemirror_mode": {
    "name": "ipython",
    "version": 3
   },
   "file_extension": ".py",
   "mimetype": "text/x-python",
   "name": "python",
   "nbconvert_exporter": "python",
   "pygments_lexer": "ipython3",
   "version": "3.11.8"
  }
 },
 "nbformat": 4,
 "nbformat_minor": 2
}
